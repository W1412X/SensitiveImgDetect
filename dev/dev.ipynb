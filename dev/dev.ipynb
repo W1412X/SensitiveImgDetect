{
 "cells": [
  {
   "cell_type": "markdown",
   "metadata": {},
   "source": [
    "## ResNet34 Epoch=15 learn_rate=0.005"
   ]
  },
  {
   "cell_type": "code",
   "execution_count": 28,
   "metadata": {},
   "outputs": [
    {
     "name": "stderr",
     "output_type": "stream",
     "text": [
      "/tmp/ipykernel_5690/1595056301.py:11: FutureWarning: You are using `torch.load` with `weights_only=False` (the current default value), which uses the default pickle module implicitly. It is possible to construct malicious pickle data which will execute arbitrary code during unpickling (See https://github.com/pytorch/pytorch/blob/main/SECURITY.md#untrusted-models for more details). In a future release, the default value for `weights_only` will be flipped to `True`. This limits the functions that could be executed during unpickling. Arbitrary objects will no longer be allowed to be loaded via this mode unless they are explicitly allowlisted by the user via `torch.serialization.add_safe_globals`. We recommend you start setting `weights_only=True` for any use case where you don't have full control of the loaded file. Please open an issue on GitHub for any issues related to this experimental feature.\n",
      "  model.load_state_dict(torch.load('./model_34_15_0.005.pth'))\n"
     ]
    }
   ],
   "source": [
    "import torch\n",
    "import torch.nn as nn\n",
    "from torchvision.models import resnet34, ResNet34_Weights\n",
    "from PIL import Image\n",
    "import torch.nn.functional as F\n",
    "import os\n",
    "from tqdm import tqdm  \n",
    "from sklearn.metrics import precision_score, recall_score, accuracy_score\n",
    "model=resnet34(weights=ResNet34_Weights.IMAGENET1K_V1)\n",
    "model.fc = nn.Linear(model.fc.in_features, 4)\n",
    "model.load_state_dict(torch.load('./model_34_15_0.005.pth'))\n",
    "#print(model.state_dict)\n",
    "preprocess=ResNet34_Weights.IMAGENET1K_V1.transforms()\n",
    "classes=['carton','other','politic','sex']"
   ]
  },
  {
   "cell_type": "code",
   "execution_count": 29,
   "metadata": {},
   "outputs": [],
   "source": [
    "def get_img(path:str):\n",
    "    img=Image.open(path)\n",
    "    img=preprocess(img)\n",
    "    return img"
   ]
  },
  {
   "cell_type": "code",
   "execution_count": 30,
   "metadata": {},
   "outputs": [],
   "source": [
    "model.eval()\n",
    "def predict(img):\n",
    "    output=model(torch.stack([img]))\n",
    "    prob=F.softmax(output,dim=1)\n",
    "    ind=torch.argmax(prob)\n",
    "    return classes[ind]"
   ]
  },
  {
   "cell_type": "code",
   "execution_count": 35,
   "metadata": {},
   "outputs": [],
   "source": [
    "def evaluate_model(val_folder):\n",
    "    y_true = []\n",
    "    y_pred = []\n",
    "\n",
    "    for label in os.listdir(val_folder):\n",
    "        label_folder = os.path.join(val_folder, label)\n",
    "        if os.path.isdir(label_folder):\n",
    "            for img_name in tqdm(os.listdir(label_folder)):\n",
    "                img_path = os.path.join(label_folder, img_name)\n",
    "                img = get_img(img_path)\n",
    "                pred = predict(img)\n",
    "\n",
    "                # 将标签转为索引\n",
    "                true_label_index = classes.index(label)\n",
    "                y_true.append(true_label_index)\n",
    "                pred_index=classes.index(pred)\n",
    "                y_pred.append(pred_index)\n",
    "    # 计算查准率、查全率和准确率\n",
    "    precision = precision_score(y_true, y_pred, average=None)\n",
    "    recall = recall_score(y_true, y_pred, average=None)\n",
    "    accuracy = accuracy_score(y_true, y_pred)\n",
    "\n",
    "    for i, class_name in enumerate(classes):\n",
    "        print(f\"Class: {class_name}\")\n",
    "        print(f\"  Precision: {precision[i]:.2f}\")\n",
    "        print(f\"  Recall: {recall[i]:.2f}\")\n",
    "\n",
    "    print(f\"Overall Accuracy: {accuracy:.2f}\")"
   ]
  },
  {
   "cell_type": "code",
   "execution_count": 36,
   "metadata": {},
   "outputs": [
    {
     "name": "stderr",
     "output_type": "stream",
     "text": [
      "100%|██████████| 40/40 [01:24<00:00,  2.11s/it]\n",
      "100%|██████████| 40/40 [01:54<00:00,  2.86s/it]\n",
      "100%|██████████| 40/40 [01:24<00:00,  2.11s/it]\n",
      "100%|██████████| 40/40 [01:27<00:00,  2.19s/it]"
     ]
    },
    {
     "name": "stdout",
     "output_type": "stream",
     "text": [
      "Class: carton\n",
      "  Precision: 0.95\n",
      "  Recall: 0.95\n",
      "Class: other\n",
      "  Precision: 0.92\n",
      "  Recall: 0.82\n",
      "Class: politic\n",
      "  Precision: 0.79\n",
      "  Recall: 0.93\n",
      "Class: sex\n",
      "  Precision: 0.95\n",
      "  Recall: 0.88\n",
      "Overall Accuracy: 0.89\n"
     ]
    },
    {
     "name": "stderr",
     "output_type": "stream",
     "text": [
      "\n"
     ]
    }
   ],
   "source": [
    "evaluate_model('./val')"
   ]
  }
 ],
 "metadata": {
  "kernelspec": {
   "display_name": "venv",
   "language": "python",
   "name": "python3"
  },
  "language_info": {
   "codemirror_mode": {
    "name": "ipython",
    "version": 3
   },
   "file_extension": ".py",
   "mimetype": "text/x-python",
   "name": "python",
   "nbconvert_exporter": "python",
   "pygments_lexer": "ipython3",
   "version": "3.8.10"
  }
 },
 "nbformat": 4,
 "nbformat_minor": 2
}
