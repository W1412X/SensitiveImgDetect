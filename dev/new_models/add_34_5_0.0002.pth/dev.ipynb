{
 "cells": [
  {
   "cell_type": "markdown",
   "metadata": {},
   "source": [
    "## ResNet34 Epoch=15 learn_rate=0.005"
   ]
  },
  {
   "cell_type": "code",
   "execution_count": 2,
   "metadata": {},
   "outputs": [
    {
     "name": "stderr",
     "output_type": "stream",
     "text": [
      "/tmp/ipykernel_94491/3029827116.py:11: FutureWarning: You are using `torch.load` with `weights_only=False` (the current default value), which uses the default pickle module implicitly. It is possible to construct malicious pickle data which will execute arbitrary code during unpickling (See https://github.com/pytorch/pytorch/blob/main/SECURITY.md#untrusted-models for more details). In a future release, the default value for `weights_only` will be flipped to `True`. This limits the functions that could be executed during unpickling. Arbitrary objects will no longer be allowed to be loaded via this mode unless they are explicitly allowlisted by the user via `torch.serialization.add_safe_globals`. We recommend you start setting `weights_only=True` for any use case where you don't have full control of the loaded file. Please open an issue on GitHub for any issues related to this experimental feature.\n",
      "  model.load_state_dict(torch.load('./model.pth',map_location=torch.device('cpu')))\n"
     ]
    }
   ],
   "source": [
    "import torch\n",
    "import torch.nn as nn\n",
    "from torchvision.models import resnet34, ResNet34_Weights\n",
    "from PIL import Image\n",
    "import torch.nn.functional as F\n",
    "import os\n",
    "from tqdm import tqdm  \n",
    "from sklearn.metrics import precision_score, recall_score, accuracy_score\n",
    "model=resnet34(weights=ResNet34_Weights.IMAGENET1K_V1)\n",
    "model.fc = nn.Linear(model.fc.in_features, 4)\n",
    "model.load_state_dict(torch.load('./model.pth',map_location=torch.device('cpu')))\n",
    "#print(model.state_dict)\n",
    "preprocess=ResNet34_Weights.IMAGENET1K_V1.transforms()\n",
    "classes=['carton','other','politic','sex']"
   ]
  },
  {
   "cell_type": "code",
   "execution_count": 3,
   "metadata": {},
   "outputs": [],
   "source": [
    "def get_img(path:str):\n",
    "    img=Image.open(path)\n",
    "    img=preprocess(img)\n",
    "    return img"
   ]
  },
  {
   "cell_type": "code",
   "execution_count": 4,
   "metadata": {},
   "outputs": [],
   "source": [
    "model.eval()\n",
    "def predict(img):\n",
    "    output=model(torch.stack([img]))\n",
    "    prob=F.softmax(output,dim=1)\n",
    "    ind=torch.argmax(prob)\n",
    "    return classes[ind]"
   ]
  },
  {
   "cell_type": "code",
   "execution_count": 13,
   "metadata": {},
   "outputs": [],
   "source": [
    "def evaluate_model(val_folder):\n",
    "    y_true = []\n",
    "    y_pred = []\n",
    "\n",
    "    for label in os.listdir(val_folder):\n",
    "        label_folder = os.path.join(val_folder, label)\n",
    "        if os.path.isdir(label_folder):\n",
    "            for img_name in (os.listdir(label_folder)):\n",
    "                img_path = os.path.join(label_folder, img_name)\n",
    "                img = get_img(img_path)\n",
    "                pred = predict(img)\n",
    "                print(pred,end=' ')\n",
    "                # 将标签转为索引\n",
    "                true_label_index = classes.index(label)\n",
    "                y_true.append(true_label_index)\n",
    "                pred_index=classes.index(pred)\n",
    "                y_pred.append(pred_index)\n",
    "            print()\n",
    "    # 计算查准率、查全率和准确率\n",
    "    precision = precision_score(y_true, y_pred, average=None)\n",
    "    recall = recall_score(y_true, y_pred, average=None)\n",
    "    accuracy = accuracy_score(y_true, y_pred)\n",
    "\n",
    "    for i, class_name in enumerate(classes):\n",
    "        print(f\"Class: {class_name}\")\n",
    "        print(f\"  Precision: {precision[i]:.2f}\")\n",
    "        print(f\"  Recall: {recall[i]:.2f}\")\n",
    "\n",
    "    print(f\"Overall Accuracy: {accuracy:.2f}\")"
   ]
  },
  {
   "cell_type": "code",
   "execution_count": 14,
   "metadata": {},
   "outputs": [
    {
     "name": "stdout",
     "output_type": "stream",
     "text": [
      "politic politic politic politic politic politic politic politic politic politic politic politic politic politic politic politic politic politic politic other politic politic politic politic politic other other politic politic sex politic sex politic politic politic politic politic politic politic politic \n",
      "sex sex sex sex sex sex sex sex sex sex sex sex sex sex sex sex sex sex sex sex sex sex sex sex sex sex sex politic sex sex sex sex carton sex sex sex sex carton politic sex \n",
      "sex carton carton sex carton carton carton carton carton carton carton carton carton carton carton carton carton sex carton carton carton carton carton carton carton politic carton carton carton carton carton carton carton carton sex carton carton carton carton carton \n",
      "other other other other other other other other politic other other other other other other other other other other other other other other other other other other other other other other politic other other other other carton other other other \n",
      "Class: carton\n",
      "  Precision: 0.92\n",
      "  Recall: 0.88\n",
      "Class: other\n",
      "  Precision: 0.93\n",
      "  Recall: 0.93\n",
      "Class: politic\n",
      "  Precision: 0.88\n",
      "  Recall: 0.88\n",
      "Class: sex\n",
      "  Precision: 0.86\n",
      "  Recall: 0.90\n",
      "Overall Accuracy: 0.89\n"
     ]
    }
   ],
   "source": [
    "evaluate_model('../../val')"
   ]
  },
  {
   "cell_type": "code",
   "execution_count": 16,
   "metadata": {},
   "outputs": [],
   "source": [
    "import pickle  \n",
    "f=open('model_v2.pickle','wb')\n",
    "pickle.dump(model,f)"
   ]
  }
 ],
 "metadata": {
  "kernelspec": {
   "display_name": "venv",
   "language": "python",
   "name": "python3"
  },
  "language_info": {
   "codemirror_mode": {
    "name": "ipython",
    "version": 3
   },
   "file_extension": ".py",
   "mimetype": "text/x-python",
   "name": "python",
   "nbconvert_exporter": "python",
   "pygments_lexer": "ipython3",
   "version": "3.8.10"
  }
 },
 "nbformat": 4,
 "nbformat_minor": 2
}
